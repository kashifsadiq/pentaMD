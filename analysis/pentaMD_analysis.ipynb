{
 "cells": [
  {
   "cell_type": "markdown",
   "metadata": {},
   "source": [
    "# Conformational and Markov state model analysis of heparin-analogue pentasaccharides"
   ]
  },
  {
   "cell_type": "markdown",
   "metadata": {},
   "source": [
    "Correspondence: S. Kashif Sadiq (kashif.sadiq@embl.de) Affiliation: 1. Heidelberg Institute for Theoretical Studies, HITS gGmbH 2. European Moelcular Biology Laboratory\n",
    "        \n",
    "This notebook contains molecular dynamnics (MD) simulation and Markov state model (MSM) analysis for the manuscript:\n",
    "\n",
    "Balogh, Gabor; Gyöngyösi, Tamás; Timári, István; Herczeg, Mihály; Borbás, Anikó; Sadiq, S. Kashif; Fehér, Krisztina; Kövér, Katalin, \n",
    "Conformational Analysis of Heparin-Analogue Pentasaccharides by Nuclear Magnetic Resonance Spectroscopy and Molecular Dynamics Simulations (2021), \n",
    "Journal of Chemical Information and Modeling, Accepted."
   ]
  },
  {
   "cell_type": "markdown",
   "metadata": {},
   "source": [
    "Here we analyze the conformational dynamics of 3 analogues of heparin pentasaccharrides: 1 - idraparinux, 2- disulfonic acid analogue and 3 - trisulfonic acid analogue.\n",
    "\n",
    "Each analogue has 5 rings - D,E,F,G,H. The rings can theoretically exhibit internal puckering measured by the Cremer-Pople angle (theta,phi), but also global conformational transitions of the analogue can occur via dihedral angle changes of the interglycosidic linkages.\n",
    "\n",
    "There are two bonds between each ring that form the interglycosidic linkage via a cental oxygen atom. In the nomenclature here, for example, going from D-E rings, the linkages are D-O-E and the dihedral angle around D-O is termed psi, the dihedral angle around O-E is termed phi. \n",
    "\n",
    "psi_DE = D(H1):D(C1):E(O):E(C4)\n",
    "phi_DE = D(C1):E(O):E(C4):E(H4)\n"
   ]
  },
  {
   "cell_type": "markdown",
   "metadata": {},
   "source": [
    "### Import Modules and Functions"
   ]
  },
  {
   "cell_type": "code",
   "execution_count": null,
   "metadata": {},
   "outputs": [],
   "source": [
    "%pylab inline\n",
    "from pentamd import *\n",
    "from msmanalysis import *\n"
   ]
  },
  {
   "cell_type": "markdown",
   "metadata": {},
   "source": [
    "### Make Directories"
   ]
  },
  {
   "cell_type": "code",
   "execution_count": null,
   "metadata": {},
   "outputs": [],
   "source": [
    "# Make figures directory\n",
    "fig_dir='figures'\n",
    "if not os.path.exists(fig_dir):\n",
    "    os.mkdir(fig_dir)"
   ]
  },
  {
   "cell_type": "markdown",
   "metadata": {},
   "source": [
    "## Load Trajectories "
   ]
  },
  {
   "cell_type": "markdown",
   "metadata": {},
   "source": [
    "Default path data is ../, with folders 1/ 2/ and 3/ corresponding to the 3 analogs and subdirectory filtered/ assumed to contain 10 replicas of production sims:\n",
    "1_md.nc, 2_md.nc etc. \n",
    "\n",
    "U1,U2,U3 are each a list of MDA universes where each contains a replica trajectory of the corresponding analog \n",
    "with 200,000 timepoints (2 microseconds each, interval of 10 ps)\n"
   ]
  },
  {
   "cell_type": "code",
   "execution_count": null,
   "metadata": {},
   "outputs": [],
   "source": [
    "path='../'\n",
    "U1 = U_ensemble(path,1)\n",
    "U2 = U_ensemble(path,2)\n",
    "U3 = U_ensemble(path,3)"
   ]
  },
  {
   "cell_type": "markdown",
   "metadata": {},
   "source": [
    "## Compute Average 1H-1H nuclei distances - for comparison with NOE"
   ]
  },
  {
   "cell_type": "markdown",
   "metadata": {},
   "source": [
    "#### List of 1H-1H pairs"
   ]
  },
  {
   "cell_type": "code",
   "execution_count": null,
   "metadata": {},
   "outputs": [],
   "source": [
    "nuclei_list=[['D1', 'E4'],\n",
    "            ['D1', 'E5'],\n",
    "             ['D1', 'D3'],\n",
    "             ['D1', 'E3'],\n",
    "             ['D61', 'D5'],\n",
    "             ['E1', 'F61'],\n",
    "             ['E1', 'F4'],\n",
    "             ['E1', 'E4'],\n",
    "             ['E1', 'E3'],\n",
    "             ['F1', 'F3'],\n",
    "             ['F1', 'F2'],\n",
    "             ['F1', 'G4'],\n",
    "             ['F1', 'G3'],\n",
    "             ['G1', 'H3'],\n",
    "             ['G1', 'H61'],\n",
    "             ['G1', 'H62'],\n",
    "             ['G1', 'H5'],\n",
    "             ['G1', 'H4'],\n",
    "             ['G1', 'G3'],\n",
    "             ['G1', 'G2'],\n",
    "             ['G2', 'G3'],\n",
    "             ['G4', 'G3'],\n",
    "             ['G5', 'G4'],\n",
    "             ['G5', 'H4'],\n",
    "            ['G5', 'G2']]"
   ]
  },
  {
   "cell_type": "markdown",
   "metadata": {},
   "source": [
    "#### Compute Table of Average Distances for All Analogs"
   ]
  },
  {
   "cell_type": "code",
   "execution_count": null,
   "metadata": {},
   "outputs": [],
   "source": [
    "resid_dict = {'D': 5, 'E': 4, 'F': 3, 'G': 2, 'H': 1}\n",
    "Uall=[U1,U2,U3]\n",
    "D=np.empty((25,0))\n",
    "for U in Uall:\n",
    "    dist=nuclei_list_avg_dist(U,resid_dict, nuclei_list)\n",
    "    D=np.hstack(((D,dist)))\n",
    "\n",
    "Dtable=np.hstack((np.array(nuclei_list),np.round(D,2) ))    "
   ]
  },
  {
   "cell_type": "markdown",
   "metadata": {},
   "source": [
    "#### Save data files"
   ]
  },
  {
   "cell_type": "code",
   "execution_count": null,
   "metadata": {},
   "outputs": [],
   "source": [
    "# Make distance directory\n",
    "dist_dir='hhdist'\n",
    "filename='/avg_1h_dist_skip10'\n",
    "if not os.path.exists(dist_dir):\n",
    "    os.mkdir(dist_dir)\n",
    "np.set_printoptions(precision=2)\n",
    "#Save files\n",
    "np.savetxt(str(dist_dir)+'/'+str(filename)+'.dat',D, fmt='%6.2f',delimiter= ' ')\n",
    "np.savetxt(str(dist_dir)+'/'+str(filename)+'.txt',Dtable, fmt='%s',delimiter= ' ')\n",
    "#Print out Table of distances - nuclei 1, nuclei 2, mean std analogs 1 2 3 respectively \n",
    "#print(D)\n",
    "#print(Dtable)"
   ]
  },
  {
   "cell_type": "markdown",
   "metadata": {},
   "source": [
    "## RMSD Analysis"
   ]
  },
  {
   "cell_type": "markdown",
   "metadata": {},
   "source": [
    "#### Select Reference Structure and Alignement Criteria"
   ]
  },
  {
   "cell_type": "code",
   "execution_count": null,
   "metadata": {},
   "outputs": [],
   "source": [
    "ref_prmtop='pdbs/reference.pdb'\n",
    "ref_pdb='pdbs/reference.pdb'\n",
    "selection=\"not protein and name C1 C2 C3 C4 C5 O4 O5\"\n"
   ]
  },
  {
   "cell_type": "markdown",
   "metadata": {},
   "source": [
    "#### RMSD of each replica of each analog"
   ]
  },
  {
   "cell_type": "code",
   "execution_count": null,
   "metadata": {},
   "outputs": [],
   "source": [
    "R1=ensemble_rmsd(path,1,ref_prmtop,ref_pdb,selection)\n",
    "R2=ensemble_rmsd(path,2,ref_prmtop,ref_pdb,selection)\n",
    "R3=ensemble_rmsd(path,3,ref_prmtop,ref_pdb,selection)\n",
    "allR=[R1,R2,R3]"
   ]
  },
  {
   "cell_type": "markdown",
   "metadata": {},
   "source": [
    "#### PLot RMSD Timeseries"
   ]
  },
  {
   "cell_type": "code",
   "execution_count": null,
   "metadata": {},
   "outputs": [],
   "source": [
    "#Plot RMSD timeseries figure\n",
    "fig,plt=plot_rmsd_timeseries(plt,allR)\n",
    "\n",
    "# Make rmsd directory\n",
    "rmsd_dir=str(fig_dir)+'/rmsd'\n",
    "if not os.path.exists(rmsd_dir):\n",
    "    os.mkdir(rmsd_dir)\n",
    "#save figure\n",
    "fig.savefig(str(rmsd_dir)+'/rmsd_dots.eps')\n",
    "fig.savefig(str(rmsd_dir)+'/rmsd_dots.png')"
   ]
  },
  {
   "cell_type": "markdown",
   "metadata": {},
   "source": [
    "### Plot RMSD distribution"
   ]
  },
  {
   "cell_type": "code",
   "execution_count": null,
   "metadata": {
    "scrolled": true
   },
   "outputs": [],
   "source": [
    "#Plot RMSD distribution figure\n",
    "fig,plt=plot_rmsd_distribution(plt,allR)\n",
    "\n",
    "# Make rmsd directory\n",
    "rmsd_dir=str(fig_dir)+'/rmsd'\n",
    "if not os.path.exists(rmsd_dir):\n",
    "    os.mkdir(rmsd_dir)\n",
    "#save figure\n",
    "fig.savefig(str(rmsd_dir)+'/rmsd_dist.eps')\n",
    "fig.savefig(str(rmsd_dir)+'/rmsd_dist.png')"
   ]
  },
  {
   "cell_type": "markdown",
   "metadata": {},
   "source": [
    "## Ring puckering and Glycosidic linkage"
   ]
  },
  {
   "cell_type": "code",
   "execution_count": null,
   "metadata": {},
   "outputs": [],
   "source": [
    "# Make data directory\n",
    "data_dir='data'\n",
    "if not os.path.exists(data_dir):\n",
    "    os.mkdir(data_dir)\n"
   ]
  },
  {
   "cell_type": "markdown",
   "metadata": {},
   "source": [
    "#### Example single trajectory"
   ]
  },
  {
   "cell_type": "code",
   "execution_count": null,
   "metadata": {},
   "outputs": [],
   "source": [
    "glink=[\"H1\", \"C1\", \"O4\", \"C4\", \"H4\"]\n",
    "ring_ordering=[0,0,-1,-1,-1]\n",
    "#Analog1\n",
    "gl1=glycosidic_link_dihedral_angles(U1[0],glink,ring_ordering)\n",
    "\n",
    "#Plot single trajectory figure \n",
    "fig,plt=plot_single_trajectory(plt,gl1[:,1])"
   ]
  },
  {
   "cell_type": "markdown",
   "metadata": {},
   "source": [
    "### Compute Glycosidic linkage Phi/Psi angles"
   ]
  },
  {
   "cell_type": "markdown",
   "metadata": {},
   "source": [
    "Takes some time to compute all 10 replicas!! Existing data can be loaded instead from below"
   ]
  },
  {
   "cell_type": "code",
   "execution_count": null,
   "metadata": {},
   "outputs": [],
   "source": [
    "glink=[\"H1\", \"C1\", \"O4\", \"C4\", \"H4\"]\n",
    "ring_ordering=[0,0,-1,-1,-1] \n",
    "\n",
    "\n",
    "for i in range(10):\n",
    "    u=U1[i]\n",
    "    gl=glycosidic_link_dihedral_angles(u,glink,ring_ordering)\n",
    "    np.savetxt(str(data_dir)+'/GL_1_'+str(i+1)+'.dat', gl, fmt='%9.5f', delimiter=' ')    \n",
    "    print('Analog 1: Replica '+str(i+1)+' Complete')\n",
    "    \n",
    "    u=U2[i]\n",
    "    gl=glycosidic_link_dihedral_angles(u,glink,ring_ordering)\n",
    "    np.savetxt(str(data_dir)+'/GL_2_'+str(i+1)+'.dat', gl, fmt='%9.5f', delimiter=' ')    \n",
    "    print('Analog 2: Replica '+str(i+1)+' Complete')\n",
    "    \n",
    "    u=U3[i]\n",
    "    gl=glycosidic_link_dihedral_angles(u,glink,ring_ordering)\n",
    "    np.savetxt(str(data_dir)+'/GL_3_'+str(i+1)+'.dat', gl, fmt='%9.5f', delimiter=' ')        \n",
    "    print('Analog 3: Replica '+str(i+1)+' Complete')   \n",
    "    \n",
    "    "
   ]
  },
  {
   "cell_type": "markdown",
   "metadata": {},
   "source": [
    "### Compute Cremer-Pople Parameters"
   ]
  },
  {
   "cell_type": "markdown",
   "metadata": {},
   "source": [
    "Takes some time to compute all 10 replicas!! Existing data can be loaded instead from below"
   ]
  },
  {
   "cell_type": "code",
   "execution_count": null,
   "metadata": {},
   "outputs": [],
   "source": [
    "resids=[x for x in range(5,0,-1)]\n",
    "for i in range(2,10):\n",
    "    u=U1[i]\n",
    "    cp=cremer_pople_analysis(u,resids)    \n",
    "    np.savetxt(str(data_dir)+'/CP_1_'+str(i+1)+'.dat', cp, fmt='%9.5f', delimiter=' ')\n",
    "    print('Analog 1: Replica '+str(i+1)+' Complete')\n",
    "    \n",
    "    u=U2[i]\n",
    "    cp=cremer_pople_analysis(u,resids)    \n",
    "    np.savetxt(str(data_dir)+'/CP_2_'+str(i+1)+'.dat', cp, fmt='%9.5f', delimiter=' ')\n",
    "    print('Analog 2: Replica '+str(i+1)+' Complete')\n",
    "    \n",
    "    u=U3[i]\n",
    "    cp=cremer_pople_analysis(u,resids)    \n",
    "    np.savetxt(str(data_dir)+'/CP_3_'+str(i+1)+'.dat', cp, fmt='%9.5f', delimiter=' ')    \n",
    "    print('Analog 3: Replica '+str(i+1)+' Complete')\n",
    "     "
   ]
  },
  {
   "cell_type": "markdown",
   "metadata": {},
   "source": [
    "### Load Pre-computed Cremer-Pople Parameters and Glycosdic linkage Dihedrals for all Replicas"
   ]
  },
  {
   "cell_type": "markdown",
   "metadata": {},
   "source": [
    "Load preexisting Cremer Pople and Glycosidic data here - Needs to be placed in the ./data directory and with filenmae format CP_1.dat, CP_2.dat, GL_1.dat, GL_2.dat etc  \n",
    "If you don't need to compute RMSD Analysis or Cremer-Pople Analysis then you can start from here after loading functions and modules"
   ]
  },
  {
   "cell_type": "code",
   "execution_count": null,
   "metadata": {},
   "outputs": [],
   "source": [
    "#Cremer-Pople\n",
    "CP1=load_data_array(analog=1,rep_start=1,rep_end=10,data_type='CP')\n",
    "CP2=load_data_array(analog=2,rep_start=1,rep_end=10,data_type='CP')\n",
    "CP3=load_data_array(analog=3,rep_start=1,rep_end=10,data_type='CP')\n",
    "#Glycosidic linkage\n",
    "GL1=load_data_array(analog=1,rep_start=1,rep_end=10,data_type='GL')\n",
    "GL2=load_data_array(analog=2,rep_start=1,rep_end=10,data_type='GL')\n",
    "GL3=load_data_array(analog=3,rep_start=1,rep_end=10,data_type='GL')\n",
    "\n",
    "#### Join All feature data in Y format for pyemma\n",
    "Y1=join_in_Y_format(CP1,GL1)\n",
    "Y2=join_in_Y_format(CP2,GL2)\n",
    "Y3=join_in_Y_format(CP3,GL3)\n",
    "\n",
    "#### Concatenate all replicas per analog\n",
    "Z1=concat_replicas(Y1)\n",
    "Z2=concat_replicas(Y2)\n",
    "Z3=concat_replicas(Y3)\n",
    "\n",
    "\n",
    "Zlabels=[r\"$\\theta_{cp}$ ($^{\\circ}$)\", \"$\\phi_{cp}$ ($^{\\circ}$)\",\n",
    "         r\"$\\theta_{cp}$ ($^{\\circ}$)\", \"$\\phi_{cp}$ ($^{\\circ}$)\",\n",
    "         r\"$\\theta_{cp}$ ($^{\\circ}$)\", \"$\\phi_{cp}$ ($^{\\circ}$)\",\n",
    "         r\"$\\theta_{cp}$ ($^{\\circ}$)\", \"$\\phi_{cp}$ ($^{\\circ}$)\",\n",
    "         r\"$\\theta_{cp}$ ($^{\\circ}$)\", \"$\\phi_{cp}$ ($^{\\circ}$)\",\n",
    "         \"$\\phi_{gl}$ ($^{\\circ}$)\", \"$\\psi_{gl}$ ($^{\\circ}$)\",\n",
    "         \"$\\phi_{gl}$ ($^{\\circ}$)\", \"$\\psi_{gl}$ ($^{\\circ}$)\",\n",
    "         \"$\\phi_{gl}$ ($^{\\circ}$)\", \"$\\psi_{gl}$ ($^{\\circ}$)\",\n",
    "         \"$\\phi_{gl}$ ($^{\\circ}$)\", \"$\\psi_{gl}$ ($^{\\circ}$)\"]\n",
    "\n",
    "\n",
    "#Combine analogues in a list\n",
    "all_Z=[Z1,Z2,Z3]\n",
    "all_CP=[CP1,CP2,CP3]\n",
    "all_GL=[GL1,GL2,GL3]\n",
    "\n"
   ]
  },
  {
   "cell_type": "markdown",
   "metadata": {},
   "source": [
    "### Plot Glycosidic and Cremer-Pople timeseries data for a given analog"
   ]
  },
  {
   "cell_type": "code",
   "execution_count": null,
   "metadata": {},
   "outputs": [],
   "source": [
    "#Plot Analog\n",
    "analog=3\n",
    "fig,plt=plot_cp_gl_timeseries(plt,all_CP[analog-1],all_GL[analog-1])\n",
    "\n",
    "# Make rmsd directory\n",
    "cpgl_dir=str(fig_dir)+'/cpgl'\n",
    "if not os.path.exists(cpgl_dir):\n",
    "    os.mkdir(cpgl_dir)\n",
    "#save figure\n",
    "fig.savefig(str(cpgl_dir)+'/analog'+str(analog)+'_cpgl_dots.eps')\n",
    "fig.savefig(str(cpgl_dir)+'/analog'+str(analog)+'_cpg1_dots.png')\n"
   ]
  },
  {
   "cell_type": "markdown",
   "metadata": {},
   "source": [
    "### Plot 2D Densities of Cremer-Pople / Glycosidic linkages"
   ]
  },
  {
   "cell_type": "markdown",
   "metadata": {},
   "source": [
    "#### Single 2D Density Plot"
   ]
  },
  {
   "cell_type": "code",
   "execution_count": null,
   "metadata": {},
   "outputs": [],
   "source": [
    "analog=1\n",
    "Z=all_Z[analog-1]\n",
    "ring_id=1\n",
    "dim=[2*ring_id+1,2*ring_id]\n",
    "plt=plot_weighted_free_energy_landscape_range(Z,plt,dim[0],dim[1],Zlabels,contour_label=False,\n",
    "                                              cmap='Spectral',cbar=True,x_ticksep=20,y_ticksep=10,cbar_label=\"-k$_{B}$Tln(p) (kcal/mol)\",\n",
    "                                             fsize_cbar=(20,15))\n",
    "\n",
    "plt.grid()\n"
   ]
  },
  {
   "cell_type": "markdown",
   "metadata": {},
   "source": [
    "#### Combined Cremer-Pople and Glycosidic linkage density Arrays"
   ]
  },
  {
   "cell_type": "code",
   "execution_count": null,
   "metadata": {},
   "outputs": [],
   "source": [
    "\n",
    "#Plot CP GL 2D density \n",
    "fig,plt=plot_cp_gl_density2D(plt,Zlabels,all_Z)\n",
    "\n",
    "# Make cpgl directory\n",
    "cpgl_dir=str(fig_dir)+'/cpgl'\n",
    "if not os.path.exists(cpgl_dir):\n",
    "    os.mkdir(cpgl_dir)\n",
    "#save figure\n",
    "fig.savefig(str(cpgl_dir)+'/cpgl_density2D.eps')\n",
    "fig.savefig(str(cpgl_dir)+'/cpg1_density2D.png')\n"
   ]
  },
  {
   "cell_type": "markdown",
   "metadata": {},
   "source": [
    "#### Cremer Pople 2D density array plot only"
   ]
  },
  {
   "cell_type": "code",
   "execution_count": null,
   "metadata": {},
   "outputs": [],
   "source": [
    "\n",
    "#Plot CP 2D density \n",
    "fig,plt=plot_cp_density2D(plt,Zlabels,all_Z)\n",
    "\n",
    "# Make cpgl directory\n",
    "cpgl_dir=str(fig_dir)+'/cpgl'\n",
    "if not os.path.exists(cpgl_dir):\n",
    "    os.mkdir(cpgl_dir)\n",
    "#save figure\n",
    "fig.savefig(str(cpgl_dir)+'/cp_density2D.eps')\n",
    "fig.savefig(str(cpgl_dir)+'/cp_density2D.png')\n"
   ]
  },
  {
   "cell_type": "markdown",
   "metadata": {},
   "source": [
    "#### Glycosidic linkage 2D density array plot only "
   ]
  },
  {
   "cell_type": "code",
   "execution_count": null,
   "metadata": {},
   "outputs": [],
   "source": [
    "\n",
    "#Plot CP 2D density \n",
    "fig,plt=plot_gl_density2D(plt,Zlabels,all_Z)\n",
    "\n",
    "# Make cpgl directory\n",
    "cpgl_dir=str(fig_dir)+'/cpgl'\n",
    "if not os.path.exists(cpgl_dir):\n",
    "    os.mkdir(cpgl_dir)\n",
    "#save figure\n",
    "fig.savefig(str(cpgl_dir)+'/gl_density2D.eps')\n",
    "fig.savefig(str(cpgl_dir)+'/gl_density2D.png')\n",
    "\n"
   ]
  },
  {
   "cell_type": "markdown",
   "metadata": {},
   "source": [
    "### Average Glycosidic Torsion angles "
   ]
  },
  {
   "cell_type": "code",
   "execution_count": null,
   "metadata": {},
   "outputs": [],
   "source": [
    "np.set_printoptions(precision=2)\n",
    "glyco_mean=np.transpose(np.vstack(( np.mean(Z1,axis=0)[10:], np.mean(Z2,axis=0)[10:], np.mean(Z3,axis=0)[10:])) )\n",
    "glyco_std=np.transpose(np.vstack(( np.std(Z1,axis=0)[10:], np.std(Z2,axis=0)[10:], np.std(Z3,axis=0)[10:]   )) )\n",
    "\n",
    "#print(glyco_mean)\n",
    "#print(glyco_std)\n",
    "\n",
    "# Make gl_torsion directory\n",
    "gltor_dir='gl_torsion'\n",
    "if not os.path.exists(gltor_dir):\n",
    "    os.mkdir(gltor_dir)\n",
    "\n",
    "np.savetxt(str(gltor_dir)+'/glyco_mean.dat',glyco_mean, fmt='%6.2f',delimiter=' ')\n",
    "np.savetxt(str(gltor_dir)+'/glyco_std.dat',glyco_std, fmt='%6.2f',delimiter=' ')\n"
   ]
  },
  {
   "cell_type": "markdown",
   "metadata": {},
   "source": [
    "### Ring Linker Pearson Correlation"
   ]
  },
  {
   "cell_type": "code",
   "execution_count": null,
   "metadata": {},
   "outputs": [],
   "source": [
    "#Reorder the columns of Z that contains CP and GL info in the linear sequence along the pentasaccharide\n",
    "data_reorder=[]\n",
    "for gl_id in range(4):\n",
    "    data_reorder+=[2*gl_id, 2*gl_id+10, 2*gl_id+11]\n",
    "data_reorder+=[8]\n",
    "#print(data_reorder)\n",
    "\n",
    "#Choose analog and compute Pearson corelation matrix from corresponding Z (CP,GL) data \n",
    "analog=1\n",
    "Z_mat=cpgl_pearsoncorr_matrix(all_Z[analog-1],data_reorder)\n",
    "\n",
    "# Plot Pearson correlation matrix\n",
    "fig,plt=plot_cpgl_pearsoncorr_matrix(plt,Z_mat)\n",
    "\n",
    "# Make pearson directory\n",
    "pearson_dir=str(fig_dir)+'/pearson'\n",
    "if not os.path.exists(pearson_dir):\n",
    "    os.mkdir(pearson_dir)\n",
    "#save figure\n",
    "fig.savefig(str(pearson_dir)+'/pearsoncorrelation_matrix.eps')\n",
    "fig.savefig(str(pearson_dir)+'/pearsoncorrelation_matrix.png')\n"
   ]
  },
  {
   "cell_type": "markdown",
   "metadata": {},
   "source": [
    "### Binary Conformational Clustering using E and G rings"
   ]
  },
  {
   "cell_type": "code",
   "execution_count": null,
   "metadata": {},
   "outputs": [],
   "source": [
    "np.set_printoptions(precision=6)\n",
    "\n",
    "#choose_analog\n",
    "analog=3\n",
    "\n",
    "#Compute condition matrix\n",
    "cond_mat,cond_len,Zcluster=state_selection(all_Z[analog-1])\n",
    "\n",
    "#Select specific data point indices corresponding to stringent range corresponding to each binary ring state\n",
    "E0=ring_binary_state_selection(Zcluster, 0, [[18,22], [0,5]])\n",
    "E1=ring_binary_state_selection(Zcluster, 0, [[80,90], [70,90]])\n",
    "G0=ring_binary_state_selection(Zcluster, 1, [[90,100], [135,140]])\n",
    "G1=ring_binary_state_selection(Zcluster, 1, [[165,170], [115,120]])\n",
    "\n",
    "\n",
    "# Select indices of coexisting state combinations\n",
    "S=[np.intersect1d(E0,G0),np.intersect1d(E0,G1),np.intersect1d(E1,G0),np.intersect1d(E1,G1)]\n",
    "representative_frames=np.empty((0,2))\n",
    "for i in range(len(S)):\n",
    "    #Check to see if selected combined state has any indices - if not, use the more relaxed definition of the state from binary cluster selection\n",
    "    if S[i].size==0:\n",
    "        S[i]=Zcluster[cond_mat[i],0].astype(int)\n",
    "    #Convert indices to replica and frame ids - so they can be saved and later selected in VMD\n",
    "    S[i]=convert_to_replica_frame(S[i])\n",
    "\n",
    "    representative_frames=np.vstack((representative_frames,S[i][0])) \n",
    "    \n",
    "#print(representative_frames)\n",
    "\n",
    "# Make rep_frames directory\n",
    "rf_dir='rep_conformers'\n",
    "if not os.path.exists(rf_dir):\n",
    "    os.mkdir(rf_dir)\n",
    "\n",
    "np.savetxt(str(rf_dir)+'/'+str(analog)+'.dat',representative_frames, fmt='%d',delimiter=' ')"
   ]
  },
  {
   "cell_type": "markdown",
   "metadata": {},
   "source": [
    "# Markov State Model"
   ]
  },
  {
   "cell_type": "code",
   "execution_count": null,
   "metadata": {},
   "outputs": [],
   "source": [
    "#Choose which ring to analyze Cremer-Pople kinetics\n",
    "\n",
    "ring_id=3\n",
    "ring_theta=2*ring_id \n",
    "ring_phi=2*ring_id+1\n",
    "\n",
    "#Choose which analogue\n",
    "analog=3\n",
    "\n",
    "#Feature array\n",
    "Z=all_Z[analog-1]\n",
    "\n",
    "## CLUSTER FEATURE DATA\n",
    "#Choose number of clusters\n",
    "n_clusters = 200   # number of k-means clusters\n",
    "#Z feature object to Y conversions\n",
    "Y=feature_obj(Z)\n",
    "#Picks out the designated columns (feature subset) - used for MSM\n",
    "MSM_dims_list=[ring_theta,ring_phi]\n",
    "Yfeat=[Y[x][:,MSM_dims_list] for x in range(np.shape(Y)[0])]\n",
    "# Cluster object\n",
    "lambda_cl_obj = coor.cluster_kmeans(Yfeat, k=n_clusters, tolerance=1e-05, max_iter=100)\n",
    "#Create discretized trajectories - where each snapshot is assigned to belong to a cluster e.g. microstate\n",
    "lambda_dtrajs = lambda_cl_obj.dtrajs\n",
    "\n",
    "## CALCULATE RELAXATION TIMESCALES\n",
    "#Compute relaxation timescales\n",
    "lambda_its = msm.timescales_msm(lambda_dtrajs, lags=1500, nits=5, errors='bayes')\n",
    "\n",
    "## Build MARKOV MODEL\n",
    "#Build MSM for chosen lag time\n",
    "msm_lag = 1000\n",
    "M = msm.bayesian_markov_model(lambda_dtrajs, msm_lag)\n",
    "#Calculate stationary distribution of microstates and assign each snapshot with corresponding microstate density\n",
    "M_stat=M.stationary_distribution\n",
    "PI_all = np.hstack([M_stat[dtraj] for dtraj in M.discrete_trajectories_full])\n",
    "\n",
    "# Eigenvector Projection\n",
    "# project first 9 non-stationary eigenvectors\n",
    "proj_ev_all = [np.hstack([M.eigenvectors_right()[:,i][dtraj] for dtraj in M.discrete_trajectories_full]) \n",
    "               for i in range(1, 10)]\n",
    "\n",
    "#PCCA Analysis \n",
    "n_sets = 2\n",
    "M.pcca(n_sets)\n",
    "pccaX = M.metastable_distributions\n",
    "pccaM = M.metastable_memberships  # get PCCA memberships\n",
    "pcca_sets = M.metastable_sets\n",
    "pcca_assign = M.metastable_assignments\n",
    "# memberships and distributions over trajectory\n",
    "X_all = [np.hstack([pccaX[i,:][dtraj] for dtraj in M.discrete_trajectories_full]) for i in range(n_sets)]\n",
    "M_all = [np.hstack([pccaM[:,i][dtraj] for dtraj in M.discrete_trajectories_full]) for i in range(n_sets)]\n",
    "\n",
    "#Hidden Markov Model Analysis\n",
    "hmm = M.coarse_grain(2)\n",
    "hmm_dist = hmm.metastable_distributions\n",
    "hmm_membership = hmm.metastable_memberships  # get HMM memberships\n",
    "# memberships over trajectory\n",
    "hmm_dist_all = [np.hstack([hmm_dist[i,:][dtraj] for dtraj in hmm.discrete_trajectories_full]) for i in range(n_sets)]\n",
    "hmm_mem_all = [np.hstack([hmm_membership[:,i][dtraj] for dtraj in hmm.discrete_trajectories_full]) for i in range(n_sets)]\n",
    "hmm_sets = hmm.metastable_sets\n",
    "\n",
    "#Compute k_for/k_rev kinetics\n",
    "np.set_printoptions(precision=3,suppress=True)    \n",
    "tau=10. \n",
    "rho=hmm.pi\n",
    "delG=-0.596*np.log(rho)\n",
    "delG=delG-np.max(delG)\n",
    "P=hmm.transition_matrix\n",
    "kon=1000.*P/tau\n",
    "nd_kon=nondiag_rates(kon)"
   ]
  },
  {
   "cell_type": "markdown",
   "metadata": {},
   "source": [
    "### Save kinetics/thermodynamics results to file"
   ]
  },
  {
   "cell_type": "code",
   "execution_count": null,
   "metadata": {},
   "outputs": [],
   "source": [
    "#Concatenate thermodynamic/kinetic data in columns: From Macrostate, To Macrostate, k_for (us^-1), k_rev (us^-1), rho0, rho1, delG0, delG1 (max zeroed)  \n",
    "out=np.hstack((nd_kon[0],rho,delG)).reshape(1,-1)\n",
    "print(out)\n",
    "\n",
    "# Make msm directory\n",
    "msm_dir='msm'\n",
    "if not os.path.exists(msm_dir):\n",
    "    os.mkdir(msm_dir)\n",
    "\n",
    "np.savetxt(str(msm_dir)+'/kon_'+str(analog)+'.dat',out, fmt='%6.2f',delimiter=' ')"
   ]
  },
  {
   "cell_type": "markdown",
   "metadata": {},
   "source": [
    "### Plot graphs from MSM analysis"
   ]
  },
  {
   "cell_type": "code",
   "execution_count": null,
   "metadata": {},
   "outputs": [],
   "source": [
    "# Make msm figure directory\n",
    "msm_fig_dir=str(fig_dir)+'/msm'\n",
    "if not os.path.exists(msm_fig_dir):\n",
    "    os.mkdir(msm_fig_dir)"
   ]
  },
  {
   "cell_type": "markdown",
   "metadata": {},
   "source": [
    "#### Plot Relaxation Timescales"
   ]
  },
  {
   "cell_type": "code",
   "execution_count": null,
   "metadata": {},
   "outputs": [],
   "source": [
    "#Plot Timescale curves\n",
    "plot_its(mplt,matplotlib,lambda_its,50,1000)\n",
    "\n",
    "#save figure\n",
    "save_current_fig(plt, str(msm_fig_dir)+'/its_' + str(analog) + '.png',8,6)"
   ]
  },
  {
   "cell_type": "markdown",
   "metadata": {},
   "source": [
    "#### Plot PMF/Free Energy Landscape with G values and Kinetic Network"
   ]
  },
  {
   "cell_type": "code",
   "execution_count": null,
   "metadata": {},
   "outputs": [],
   "source": [
    "\n",
    "MSM_dims=np.array(MSM_dims_list)\n",
    "dim=[ring_phi,ring_theta]\n",
    "#Weighted Free Energy PMF landscape with Contours\n",
    "cl_obj=lambda_cl_obj\n",
    "mstate_color=['yellow','red','magenta','blue','black']\n",
    "matplotlib.rcParams.update({'font.size': 12})\n",
    "plt=plot_weighted_free_energy_landscape_range(Z,plt,dim[0],dim[1],Zlabels,cmap='Spectral',wg=PI_all,lev_max=0,shallow=True,cbar=True,fsize=(11,9),x_lim=[0,210],y_lim=[60,190],cbar_label=\"PMF kcal/mol\")\n",
    "\n",
    "#Plot All Cluster centers\n",
    "#plt.plot(cl_obj.clustercenters[:,np.where(MSM_dims==dim[0])[0][0]],cl_obj.clustercenters[:,np.where(MSM_dims==dim[1])[0][0]], linewidth=0, marker='o', markersize=8, color='k')\n",
    "\n",
    "#Once PCCA/HMM sets has been calculated - Calculate clusters belonging to each PCCA/HMM metastable state\n",
    "#plot_metastable_sets(plt,cl_obj,hmm_sets,MSM_dims,dim,mstate_color,msize=6)\n",
    "#plot_metastable_sets(plt,cl_obj,pcca_sets,MSM_dims,dim,mstate_color,msize=6)\n",
    "\n",
    "#State 0\n",
    "plt.text(20, 150, '$^{1}C_{4}$', fontsize=40, color='k')\n",
    "plt.text(20, 140, 'G = {:3.1f}'.format(delG[0]), fontsize=30, color='k')\n",
    "\n",
    "#State 1 - Ground state\n",
    "plt.text(20, 100, '$^{2}S_{O}$', fontsize=40, color='k')\n",
    "plt.text(20, 90, 'G = {:3.1f}'.format(delG[1]), fontsize=30, color='k')\n",
    "\n",
    "w=2\n",
    "width_ratio=np.sqrt(nd_kon[0,2]/nd_kon[0,3])\n",
    "plt.arrow(120,120,0,30,width=w,color='k',shape='right',length_includes_head=True,overhang=0.5)\n",
    "plt.arrow(122,150,0,-30,width=w*width_ratio,color='k',shape='right',length_includes_head=True,overhang=0.5)\n",
    "\n",
    "\n",
    "#State 0 -> 1\n",
    "plt.text(135, 130, \"{:3.1f}\".format(nd_kon[0,2]), fontsize=30, color='k')\n",
    "#State 1 -> 0\n",
    "plt.text(95, 130, \"{:3.1f}\".format(nd_kon[0,3]), fontsize=30, color='k')\n",
    "\n",
    "#save figure\n",
    "save_current_fig(plt, str(msm_fig_dir)+'/pmf_' + str(analog) + '.png',11,9)"
   ]
  },
  {
   "cell_type": "markdown",
   "metadata": {},
   "source": [
    "#### Plot Eigenvector Projections"
   ]
  },
  {
   "cell_type": "code",
   "execution_count": null,
   "metadata": {},
   "outputs": [],
   "source": [
    "#Plot the fist 2 non-stationary eigenvectors binned into a 2D theta/phi CP space\n",
    "fig, axes = subplots(1, n_sets, figsize=(16,6))\n",
    "for i, ax in enumerate(axes):\n",
    "    #plot_sampled_function(np.vstack(Y)[:,dim[0]], np.vstack(Y)[:,dim[1]], proj_ev_all[i], ax=ax, cbar=False, cmap=cm.Blues)\n",
    "    plot_sampled_function(Z[:,dim[0]], Z[:,dim[1]], proj_ev_all[i], ax=ax, cbar=False, cmap=cm.Blues)\n",
    "    #plot_labels(ax)\n",
    "\n",
    "    \n",
    "#save figure\n",
    "save_current_fig(plt, str(msm_fig_dir)+'/eigenvectors_' + str(analog) + '.png',16,6)"
   ]
  },
  {
   "cell_type": "markdown",
   "metadata": {},
   "source": [
    "#### Plot PCCA distributions"
   ]
  },
  {
   "cell_type": "code",
   "execution_count": null,
   "metadata": {},
   "outputs": [],
   "source": [
    "\n",
    "fig, axes = subplots(1, n_sets, figsize=(16, 6))\n",
    "matplotlib.rcParams.update({'font.size': 12})\n",
    "axes = axes.flatten()\n",
    "#import warnings\n",
    "np.seterr(invalid='warn') \n",
    "for k in range(n_sets):\n",
    "        plot_sampled_density(Z[:,dim[0]], Z[:,dim[1]], X_all[k], ax=axes[k], cmap=\"Spectral\", cbar=False)     \n",
    "        ax=axes[k]\n",
    "        mstate_color=['yellow','red','magenta']\n",
    "        ax.plot(cl_obj.clustercenters[pcca_sets[k],\n",
    "np.where(MSM_dims==dim[0])[0][0]],cl_obj.clustercenters[pcca_sets[k],\n",
    "np.where(MSM_dims==dim[1])[0][0]], linewidth=0, marker='o', markersize=2, color='black')\n",
    "\n",
    "#save figure\n",
    "save_current_fig(plt, str(msm_fig_dir)+'/pcca_' + str(analog) + '.png',16,6)\n"
   ]
  },
  {
   "cell_type": "markdown",
   "metadata": {},
   "source": [
    "#### Plot HMM distributions"
   ]
  },
  {
   "cell_type": "code",
   "execution_count": null,
   "metadata": {},
   "outputs": [],
   "source": [
    "fig, axes = subplots(1, 2, figsize=(16, 6))\n",
    "matplotlib.rcParams.update({'font.size': 12})\n",
    "axes = axes.flatten()\n",
    "import warnings\n",
    "np.seterr(invalid='warn') \n",
    "for k in range(n_sets):\n",
    "        plot_sampled_density(Z[:,dim[0]], Z[:,dim[1]], hmm_dist_all[k], ax=axes[k], cmap=\"Spectral\", cbar=False)     \n",
    "        ax=axes[k]\n",
    "        mstate_color=['yellow','red','magenta']\n",
    "        ax.plot(cl_obj.clustercenters[hmm_sets[k],\n",
    "np.where(MSM_dims==dim[0])[0][0]],cl_obj.clustercenters[hmm_sets[k],\n",
    "np.where(MSM_dims==dim[1])[0][0]], linewidth=0, marker='o', markersize=2, color='black')\n",
    "\n",
    "#save figure\n",
    "save_current_fig(plt, str(msm_fig_dir)+'/hmm_' + str(analog) + '.png',16,6)\n",
    "\n"
   ]
  },
  {
   "cell_type": "markdown",
   "metadata": {},
   "source": [
    "# End of Analysis\n",
    "\n",
    "Correspondence: S. Kashif Sadiq (kashif.sadiq@embl.de) Affiliation: 1. Heidelberg Institute for Theoretical Studies, HITS gGmbH 2. European Moelcular Biology Laboratory"
   ]
  }
 ],
 "metadata": {
  "kernelspec": {
   "display_name": "Python 3",
   "language": "python",
   "name": "python3"
  },
  "language_info": {
   "codemirror_mode": {
    "name": "ipython",
    "version": 3
   },
   "file_extension": ".py",
   "mimetype": "text/x-python",
   "name": "python",
   "nbconvert_exporter": "python",
   "pygments_lexer": "ipython3",
   "version": "3.6.9"
  }
 },
 "nbformat": 4,
 "nbformat_minor": 4
}
